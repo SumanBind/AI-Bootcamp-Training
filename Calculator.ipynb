{
  "nbformat": 4,
  "nbformat_minor": 0,
  "metadata": {
    "colab": {
      "provenance": [],
      "authorship_tag": "ABX9TyNxd0rhqOqZPukHOMlNX19A",
      "include_colab_link": true
    },
    "kernelspec": {
      "name": "python3",
      "display_name": "Python 3"
    },
    "language_info": {
      "name": "python"
    }
  },
  "cells": [
    {
      "cell_type": "markdown",
      "metadata": {
        "id": "view-in-github",
        "colab_type": "text"
      },
      "source": [
        "<a href=\"https://colab.research.google.com/github/SumanBind/AI-Bootcamp-Training/blob/main/Calculator.ipynb\" target=\"_parent\"><img src=\"https://colab.research.google.com/assets/colab-badge.svg\" alt=\"Open In Colab\"/></a>"
      ]
    },
    {
      "cell_type": "code",
      "execution_count": 1,
      "metadata": {
        "colab": {
          "base_uri": "https://localhost:8080/"
        },
        "id": "s6qiAw77aDXK",
        "outputId": "3d856d29-8c17-40c9-a7f5-0468c0962098"
      },
      "outputs": [
        {
          "output_type": "stream",
          "name": "stdout",
          "text": [
            "Select operation:\n",
            "1. Addition (+)\n",
            "2. Subtraction (-)\n",
            "3. Multiplication (*)\n",
            "4. Division (/)\n",
            "Enter choice (1/2/3/4): 2\n",
            "Enter first number: 66\n",
            "Enter second number: 55\n",
            "Result: 11.0\n"
          ]
        }
      ],
      "source": [
        "\n",
        "# Function to perform calculation\n",
        "def calculator():\n",
        "    print(\"Select operation:\")\n",
        "    print(\"1. Addition (+)\")\n",
        "    print(\"2. Subtraction (-)\")\n",
        "    print(\"3. Multiplication (*)\")\n",
        "    print(\"4. Division (/)\")\n",
        "\n",
        "    choice = input(\"Enter choice (1/2/3/4): \")\n",
        "\n",
        "    # Input numbers\n",
        "    num1 = float(input(\"Enter first number: \"))\n",
        "    num2 = float(input(\"Enter second number: \"))\n",
        "\n",
        "    # Perform operation\n",
        "    if choice == '1':\n",
        "        print(\"Result:\", num1 + num2)\n",
        "\n",
        "    elif choice == '2':\n",
        "        print(\"Result:\", num1 - num2)\n",
        "\n",
        "    elif choice == '3':\n",
        "        print(\"Result:\", num1 * num2)\n",
        "\n",
        "    elif choice == '4':\n",
        "        if num2 != 0:\n",
        "            print(\"Result:\", num1 / num2)\n",
        "        else:\n",
        "            print(\"Error: Cannot divide by zero.\")\n",
        "    else:\n",
        "        print(\"Invalid input\")\n",
        "\n",
        "# Call the calculator function\n",
        "calculator()"
      ]
    }
  ]
}