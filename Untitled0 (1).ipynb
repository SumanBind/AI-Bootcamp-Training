{
  "nbformat": 4,
  "nbformat_minor": 0,
  "metadata": {
    "colab": {
      "provenance": []
    },
    "kernelspec": {
      "name": "python3",
      "display_name": "Python 3"
    },
    "language_info": {
      "name": "python"
    }
  },
  "cells": [
    {
      "cell_type": "code",
      "execution_count": 5,
      "metadata": {
        "colab": {
          "base_uri": "https://localhost:8080/"
        },
        "id": "GuknUOTNdQvS",
        "outputId": "6b10ab96-e18c-4104-aa89-3571d47ed0ff"
      },
      "outputs": [
        {
          "output_type": "stream",
          "name": "stdout",
          "text": [
            "Hello World\n",
            "My name is suman Bind\n"
          ]
        }
      ],
      "source": [
        "print(\"Hello World\")\n",
        "print(\"My name is suman Bind\")"
      ]
    },
    {
      "cell_type": "code",
      "source": [],
      "metadata": {
        "id": "O--crSVeeRq0"
      },
      "execution_count": null,
      "outputs": []
    }
  ]
}